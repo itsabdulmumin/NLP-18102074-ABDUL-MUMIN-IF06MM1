{
  "nbformat": 4,
  "nbformat_minor": 0,
  "metadata": {
    "colab": {
      "name": "Tugas1_NLP_18102074_IF06MM1.ipynb",
      "provenance": [],
      "authorship_tag": "ABX9TyOchCV/5sy5JeOzieAYulmo",
      "include_colab_link": true
    },
    "kernelspec": {
      "name": "python3",
      "display_name": "Python 3"
    },
    "language_info": {
      "name": "python"
    }
  },
  "cells": [
    {
      "cell_type": "markdown",
      "metadata": {
        "id": "view-in-github",
        "colab_type": "text"
      },
      "source": [
        "<a href=\"https://colab.research.google.com/github/itsabdulmumin/NLP-18102074-ABDUL-MUMIN-IF06MM1/blob/main/Tugas1_NLP_18102074_IF06MM1.ipynb\" target=\"_parent\"><img src=\"https://colab.research.google.com/assets/colab-badge.svg\" alt=\"Open In Colab\"/></a>"
      ]
    },
    {
      "cell_type": "code",
      "metadata": {
        "colab": {
          "base_uri": "https://localhost:8080/",
          "height": 221
        },
        "id": "IvmSYmPpwmIh",
        "outputId": "d249773f-13c4-4e63-a1ca-ede9bdf45afa"
      },
      "source": [
        "from google.colab import drive\n",
        "import pandas as pd\n",
        "drive.mount('/content/drive')\n",
        "file_url = '/content/drive/My Drive/Colab Notebooks/SMSSpamCollection.txt'\n",
        "data = pd.read_csv(file_url, sep = '\\t', header=None, names=[\"label\", \"sms\"])\n",
        "data.head()"
      ],
      "execution_count": 3,
      "outputs": [
        {
          "output_type": "stream",
          "text": [
            "Mounted at /content/drive\n"
          ],
          "name": "stdout"
        },
        {
          "output_type": "execute_result",
          "data": {
            "text/html": [
              "<div>\n",
              "<style scoped>\n",
              "    .dataframe tbody tr th:only-of-type {\n",
              "        vertical-align: middle;\n",
              "    }\n",
              "\n",
              "    .dataframe tbody tr th {\n",
              "        vertical-align: top;\n",
              "    }\n",
              "\n",
              "    .dataframe thead th {\n",
              "        text-align: right;\n",
              "    }\n",
              "</style>\n",
              "<table border=\"1\" class=\"dataframe\">\n",
              "  <thead>\n",
              "    <tr style=\"text-align: right;\">\n",
              "      <th></th>\n",
              "      <th>label</th>\n",
              "      <th>sms</th>\n",
              "    </tr>\n",
              "  </thead>\n",
              "  <tbody>\n",
              "    <tr>\n",
              "      <th>0</th>\n",
              "      <td>ham</td>\n",
              "      <td>Go until jurong point, crazy.. Available only ...</td>\n",
              "    </tr>\n",
              "    <tr>\n",
              "      <th>1</th>\n",
              "      <td>ham</td>\n",
              "      <td>Ok lar... Joking wif u oni...</td>\n",
              "    </tr>\n",
              "    <tr>\n",
              "      <th>2</th>\n",
              "      <td>spam</td>\n",
              "      <td>Free entry in 2 a wkly comp to win FA Cup fina...</td>\n",
              "    </tr>\n",
              "    <tr>\n",
              "      <th>3</th>\n",
              "      <td>ham</td>\n",
              "      <td>U dun say so early hor... U c already then say...</td>\n",
              "    </tr>\n",
              "    <tr>\n",
              "      <th>4</th>\n",
              "      <td>ham</td>\n",
              "      <td>Nah I don't think he goes to usf, he lives aro...</td>\n",
              "    </tr>\n",
              "  </tbody>\n",
              "</table>\n",
              "</div>"
            ],
            "text/plain": [
              "  label                                                sms\n",
              "0   ham  Go until jurong point, crazy.. Available only ...\n",
              "1   ham                      Ok lar... Joking wif u oni...\n",
              "2  spam  Free entry in 2 a wkly comp to win FA Cup fina...\n",
              "3   ham  U dun say so early hor... U c already then say...\n",
              "4   ham  Nah I don't think he goes to usf, he lives aro..."
            ]
          },
          "metadata": {
            "tags": []
          },
          "execution_count": 3
        }
      ]
    },
    {
      "cell_type": "code",
      "metadata": {
        "colab": {
          "base_uri": "https://localhost:8080/"
        },
        "id": "Qk2b9OOU57GU",
        "outputId": "576511ac-c500-4234-88f7-7ab753ea31da"
      },
      "source": [
        "import string\n",
        "import nltk\n",
        "nltk.download('stopwords')\n",
        "nltk.download('punkt')\n",
        "stopwords = nltk.corpus.stopwords.words('english')\n",
        "punctuation = string.punctuation\n",
        "print(stopwords[:5])\n",
        "print(punctuation)"
      ],
      "execution_count": 4,
      "outputs": [
        {
          "output_type": "stream",
          "text": [
            "[nltk_data] Downloading package stopwords to /root/nltk_data...\n",
            "[nltk_data]   Unzipping corpora/stopwords.zip.\n",
            "[nltk_data] Downloading package punkt to /root/nltk_data...\n",
            "[nltk_data]   Unzipping tokenizers/punkt.zip.\n",
            "['i', 'me', 'my', 'myself', 'we']\n",
            "!\"#$%&'()*+,-./:;<=>?@[\\]^_`{|}~\n"
          ],
          "name": "stdout"
        }
      ]
    },
    {
      "cell_type": "code",
      "metadata": {
        "colab": {
          "base_uri": "https://localhost:8080/"
        },
        "id": "fOwYCqzK6EOT",
        "outputId": "e8596958-2957-4ec4-f9aa-a07dd71073bc"
      },
      "source": [
        "def pre_process(sms):\n",
        "   remove_punct = \"\".join([word.lower() for word in sms if word not \n",
        "                  in punctuation])\n",
        "   tokenize = nltk.tokenize.word_tokenize(remove_punct)\n",
        "   remove_stopwords = [word for word in tokenize if word not in\n",
        "                       stopwords]\n",
        "   return remove_stopwords\n",
        "data['processed'] = data['sms'].apply(lambda x: pre_process(x))\n",
        "print(data['processed'].head())"
      ],
      "execution_count": 5,
      "outputs": [
        {
          "output_type": "stream",
          "text": [
            "0    [go, jurong, point, crazy, available, bugis, n...\n",
            "1                       [ok, lar, joking, wif, u, oni]\n",
            "2    [free, entry, 2, wkly, comp, win, fa, cup, fin...\n",
            "3        [u, dun, say, early, hor, u, c, already, say]\n",
            "4    [nah, dont, think, goes, usf, lives, around, t...\n",
            "Name: processed, dtype: object\n"
          ],
          "name": "stdout"
        }
      ]
    },
    {
      "cell_type": "code",
      "metadata": {
        "colab": {
          "base_uri": "https://localhost:8080/"
        },
        "id": "z9EJJoDW6c_6",
        "outputId": "a0170e64-67ff-494a-e855-ccbede51771c"
      },
      "source": [
        "def categorize_words():\n",
        "   spam_words = []\n",
        "   ham_words = []\n",
        "  #pesan spam\n",
        "   for sms in data['processed'][data['label'] == 'spam']:\n",
        "      for word in sms:\n",
        "        spam_words.append(word)\n",
        "  #pesan ham\n",
        "   for sms in data['processed'][data['label'] == 'ham']:\n",
        "      for word in sms:\n",
        "         ham_words.append(word)\n",
        "   return spam_words, ham_words\n",
        "\n",
        "spam_words, ham_words = categorize_words()\n",
        "\n",
        "print(spam_words[:5])\n",
        "print(ham_words[:5])"
      ],
      "execution_count": 40,
      "outputs": [
        {
          "output_type": "stream",
          "text": [
            "['free', 'entry', '2', 'wkly', 'comp']\n",
            "['go', 'jurong', 'point', 'crazy', 'available']\n"
          ],
          "name": "stdout"
        }
      ]
    },
    {
      "cell_type": "code",
      "metadata": {
        "id": "VwqIruBpBtTo"
      },
      "source": [
        "def predict(sms):\n",
        "   spam_counter = 0\n",
        "   ham_counter = 0\n",
        "   for word in sms:\n",
        "      spam_counter += spam_words.count(word)\n",
        "      ham_counter += ham_words.count(word)\n",
        "      print('***RESULTS***')\n",
        "   if ham_counter > spam_counter:\n",
        "      accuracy = round((ham_counter / (ham_counter + spam_counter) *\n",
        "                 100))\n",
        "      print('messege is not spam, with {}% certainty'.format(accuracy))\n",
        "   elif ham_counter == spam_counter:\n",
        "      print('message could be spam')\n",
        "   else:\n",
        "      accuracy = round((spam_counter / (ham_counter + spam_counter)\n",
        "                 * 100))\n",
        "      print('message is spam, with {}% certainty'.format(accuracy))"
      ],
      "execution_count": 48,
      "outputs": []
    },
    {
      "cell_type": "code",
      "metadata": {
        "colab": {
          "base_uri": "https://localhost:8080/"
        },
        "id": "bF8DwroICykP",
        "outputId": "665ab92a-1ce1-4738-d213-c317817de388"
      },
      "source": [
        "user_input = input(\"Please type a spam or ham message to check if our function predicts accurately\\n\")\n",
        "processed_input = pre_process(user_input)\n",
        "predict(processed_input)"
      ],
      "execution_count": 51,
      "outputs": [
        {
          "output_type": "stream",
          "text": [
            "Please type a spam or ham message to check if our function predicts accurately\n",
            "WINNER!! As a valued network customer you have been selected to receivea å£900 prize reward! To claim call 09061701461. Claim code KL341. Valid 12 hours only.\n",
            "***RESULTS***\n",
            "***RESULTS***\n",
            "***RESULTS***\n",
            "***RESULTS***\n",
            "***RESULTS***\n",
            "***RESULTS***\n",
            "***RESULTS***\n",
            "***RESULTS***\n",
            "***RESULTS***\n",
            "***RESULTS***\n",
            "***RESULTS***\n",
            "***RESULTS***\n",
            "***RESULTS***\n",
            "***RESULTS***\n",
            "***RESULTS***\n",
            "***RESULTS***\n",
            "***RESULTS***\n",
            "***RESULTS***\n",
            "message is spam, with 76% certainty\n"
          ],
          "name": "stdout"
        }
      ]
    }
  ]
}